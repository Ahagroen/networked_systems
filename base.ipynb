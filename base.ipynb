{
 "cells": [
  {
   "cell_type": "code",
   "execution_count": null,
   "metadata": {},
   "outputs": [],
   "source": [
    "import networkx as nx\n",
    "import numpy as np\n",
    "import matplotlib.pyplot as plt\n",
    "from IPython.display import *\n",
    "from xlrd import open_workbook\n",
    "import geopandas as gpd\n",
    "from shapely.geometry import LineString\n",
    "import fiona\n",
    "import time\n",
    "import csv\n",
    "import ast\n",
    "import sys\n",
    "import osmnx as osm"
   ]
  },
  {
   "cell_type": "code",
   "execution_count": null,
   "metadata": {},
   "outputs": [],
   "source": [
    "road_data = osm.graph_from_place(\"Hernesaari, Helsinki, Finland\",network_type=\"bike\")\n",
    "features_data = osm.features_from_place(\"Hernesaari, Helsinki, Finland\",tags = {'public_transport': \"stop_area\"})\n",
    "projected_data = osm.project_graph(road_data)\n",
    "new_data = osm.consolidate_intersections(projected_data, rebuild_graph=True, tolerance=30, dead_ends=False)\n",
    "osm.plot_graph(new_data)\n",
    "len(features_data)"
   ]
  }
 ],
 "metadata": {
  "kernelspec": {
   "display_name": ".venv",
   "language": "python",
   "name": "python3"
  },
  "language_info": {
   "name": "python",
   "version": "3.12.8"
  }
 },
 "nbformat": 4,
 "nbformat_minor": 2
}
